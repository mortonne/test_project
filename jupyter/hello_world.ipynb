{
 "cells": [
  {
   "cell_type": "code",
   "execution_count": 1,
   "id": "388d73cf-e108-4a81-ac44-22505611c842",
   "metadata": {},
   "outputs": [],
   "source": [
    "from pathlib import Path\n",
    "import matplotlib\n",
    "import matplotlib.pyplot as plt\n",
    "\n",
    "from myproject import mymodule\n",
    "\n",
    "# use TrueType fonts, which are better supported by other programs than \n",
    "# Type 3 fonts that are used by default\n",
    "matplotlib.rcParams['pdf.fonttype'] = 42\n",
    "matplotlib.rcParams['ps.fonttype'] = 42\n",
    "\n",
    "# for simplicity, save figures to a subdirectory. Usually I'll save to a \n",
    "# separate directory not in the git project. I don't recommend tracking \n",
    "# figures on GitHub; they're relatively large files, which git doesn't handle\n",
    "# as well, and committing them when they change can be a pain. Easier to save\n",
    "# to a cloud drive like Box, which will keep track of versions automatically\n",
    "fig_dir = Path(\"figs\")\n",
    "fig_dir.mkdir(exist_ok=True)"
   ]
  },
  {
   "cell_type": "code",
   "execution_count": 2,
   "id": "bd1e7949-b466-4007-a914-175c388ba733",
   "metadata": {},
   "outputs": [
    {
     "data": {
      "text/plain": [
       "\u001b[0;31mSignature:\u001b[0m \u001b[0mmymodule\u001b[0m\u001b[0;34m.\u001b[0m\u001b[0mprint_message\u001b[0m\u001b[0;34m(\u001b[0m\u001b[0mmessage\u001b[0m\u001b[0;34m=\u001b[0m\u001b[0;34m'Hello, world'\u001b[0m\u001b[0;34m)\u001b[0m\u001b[0;34m\u001b[0m\u001b[0;34m\u001b[0m\u001b[0m\n",
       "\u001b[0;31mDocstring:\u001b[0m Print a message given as a string.\n",
       "\u001b[0;31mFile:\u001b[0m      ~/PycharmProjects/test_project/src/myproject/mymodule.py\n",
       "\u001b[0;31mType:\u001b[0m      function"
      ]
     },
     "metadata": {},
     "output_type": "display_data"
    }
   ],
   "source": [
    "# print information about our function\n",
    "mymodule.print_message?"
   ]
  },
  {
   "cell_type": "code",
   "execution_count": 3,
   "id": "728ee12e-bb9b-4a23-9a6c-30f0f7ad2785",
   "metadata": {},
   "outputs": [
    {
     "name": "stdout",
     "output_type": "stream",
     "text": [
      "Hello, world\n"
     ]
    }
   ],
   "source": [
    "# run it the same way that the Python script hello-world does\n",
    "mymodule.print_message()"
   ]
  },
  {
   "cell_type": "code",
   "execution_count": 4,
   "id": "5795cfbd-e8ff-4d6f-8b85-dda02a8b9e1b",
   "metadata": {},
   "outputs": [
    {
     "name": "stderr",
     "output_type": "stream",
     "text": [
      "LINO NOT subset; don't know how to subset; dropped\n"
     ]
    },
    {
     "data": {
      "image/png": "[encoded data removed]",
      "text/plain": [
       "<Figure size 400x400 with 1 Axes>"
      ]
     },
     "metadata": {},
     "output_type": "display_data"
    }
   ],
   "source": [
    "# plot and save an editable figure\n",
    "fig, ax = plt.subplots(figsize=(4, 4))\n",
    "ax.annotate(\"Hello world\", xy=(0.5, 0.5), ha=\"center\")\n",
    "fig.savefig(fig_dir / \"hello_world.pdf\")"
   ]
  }
 ],
 "metadata": {
  "kernelspec": {
   "display_name": "testproject",
   "language": "python",
   "name": "testproject"
  },
  "language_info": {
   "codemirror_mode": {
    "name": "ipython",
    "version": 3
   },
   "file_extension": ".py",
   "mimetype": "text/x-python",
   "name": "python",
   "nbconvert_exporter": "python",
   "pygments_lexer": "ipython3",
   "version": "3.9.13"
  }
 },
 "nbformat": 4,
 "nbformat_minor": 5
}
